{
 "cells": [
  {
   "cell_type": "markdown",
   "id": "18254f61",
   "metadata": {},
   "source": [
    "# Installation"
   ]
  },
  {
   "cell_type": "code",
   "execution_count": 1,
   "id": "d6383441",
   "metadata": {
    "scrolled": true
   },
   "outputs": [
    {
     "name": "stdout",
     "output_type": "stream",
     "text": [
      "Requirement already satisfied: pyBKT in c:\\users\\tangw\\anaconda3\\lib\\site-packages (1.4)\n",
      "Requirement already satisfied: requests in c:\\users\\tangw\\anaconda3\\lib\\site-packages (from pyBKT) (2.25.1)\n",
      "Requirement already satisfied: numpy in c:\\users\\tangw\\anaconda3\\lib\\site-packages (from pyBKT) (1.20.1)\n",
      "Requirement already satisfied: sklearn in c:\\users\\tangw\\anaconda3\\lib\\site-packages (from pyBKT) (0.0)\n",
      "Requirement already satisfied: pandas in c:\\users\\tangw\\anaconda3\\lib\\site-packages (from pyBKT) (1.2.4)\n",
      "Requirement already satisfied: pytz>=2017.3 in c:\\users\\tangw\\anaconda3\\lib\\site-packages (from pandas->pyBKT) (2021.1)\n",
      "Requirement already satisfied: python-dateutil>=2.7.3 in c:\\users\\tangw\\anaconda3\\lib\\site-packages (from pandas->pyBKT) (2.8.1)\n",
      "Requirement already satisfied: six>=1.5 in c:\\users\\tangw\\anaconda3\\lib\\site-packages (from python-dateutil>=2.7.3->pandas->pyBKT) (1.15.0)\n",
      "Requirement already satisfied: certifi>=2017.4.17 in c:\\users\\tangw\\anaconda3\\lib\\site-packages (from requests->pyBKT) (2021.10.8)\n",
      "Requirement already satisfied: chardet<5,>=3.0.2 in c:\\users\\tangw\\anaconda3\\lib\\site-packages (from requests->pyBKT) (4.0.0)\n",
      "Requirement already satisfied: urllib3<1.27,>=1.21.1 in c:\\users\\tangw\\anaconda3\\lib\\site-packages (from requests->pyBKT) (1.26.4)\n",
      "Requirement already satisfied: idna<3,>=2.5 in c:\\users\\tangw\\anaconda3\\lib\\site-packages (from requests->pyBKT) (2.10)\n",
      "Requirement already satisfied: scikit-learn in c:\\users\\tangw\\anaconda3\\lib\\site-packages (from sklearn->pyBKT) (0.24.1)\n",
      "Requirement already satisfied: joblib>=0.11 in c:\\users\\tangw\\anaconda3\\lib\\site-packages (from scikit-learn->sklearn->pyBKT) (1.0.1)\n",
      "Requirement already satisfied: scipy>=0.19.1 in c:\\users\\tangw\\anaconda3\\lib\\site-packages (from scikit-learn->sklearn->pyBKT) (1.6.2)\n",
      "Requirement already satisfied: threadpoolctl>=2.0.0 in c:\\users\\tangw\\anaconda3\\lib\\site-packages (from scikit-learn->sklearn->pyBKT) (2.1.0)\n",
      "Note: you may need to restart the kernel to use updated packages.\n"
     ]
    }
   ],
   "source": [
    "   pip install pyBKT"
   ]
  },
  {
   "cell_type": "markdown",
   "id": "b0cbe12f",
   "metadata": {},
   "source": [
    "# Creating and Training Models"
   ]
  },
  {
   "cell_type": "code",
   "execution_count": 2,
   "id": "c23b4874",
   "metadata": {},
   "outputs": [],
   "source": [
    "from pyBKT.models import Model\n",
    "\n",
    "# Initialize the model with an optional seed\n",
    "model = Model(seed = 42, num_fits = 1)\n",
    "\n",
    "# Train a simple BKT model on all skills in the CT dataset\n",
    "model.fit(data_path = 'ct.csv')"
   ]
  },
  {
   "cell_type": "code",
   "execution_count": 3,
   "id": "d5bae8bc",
   "metadata": {},
   "outputs": [],
   "source": [
    "# Train a simple BKT model on multiple skills in the CT dataset\n",
    "model.fit(data_path = 'ct.csv', skills = [\"Plot imperfect radical\",\n",
    "                                          \"Plot pi\"])"
   ]
  },
  {
   "cell_type": "code",
   "execution_count": 4,
   "id": "0a21bbe0",
   "metadata": {},
   "outputs": [
    {
     "ename": "SyntaxError",
     "evalue": "invalid syntax (<ipython-input-4-790b1ce74d48>, line 1)",
     "output_type": "error",
     "traceback": [
      "\u001b[1;36m  File \u001b[1;32m\"<ipython-input-4-790b1ce74d48>\"\u001b[1;36m, line \u001b[1;32m1\u001b[0m\n\u001b[1;33m    Train a multiguess and slip BKT model on multiple skills in the\u001b[0m\n\u001b[1;37m          ^\u001b[0m\n\u001b[1;31mSyntaxError\u001b[0m\u001b[1;31m:\u001b[0m invalid syntax\n"
     ]
    }
   ],
   "source": [
    " Train a multiguess and slip BKT model on multiple skills in the\n",
    "# CT dataset. Note: if you are not using CognitiveTutor or Assistments\n",
    "# data, you may need to provide a column mapping for the guess/slip\n",
    "# classes to use (i.e. if the column name is gsclasses, you would\n",
    "# specify multigs = 'gsclasses' or specify a defaults dictionary\n",
    "# defaults = {'multigs': 'gsclasses'}).\n",
    "model.fit(data_path = 'ct.csv', skills = [\"Plot imperfect radical\",\n",
    "                                          \"Plot pi\"],\n",
    "                                multigs = True)"
   ]
  },
  {
   "cell_type": "code",
   "execution_count": 5,
   "id": "6bfe4677",
   "metadata": {},
   "outputs": [],
   "source": [
    "# We can combine multiple model variants.\n",
    "model.fit(data_path = 'ct.csv', skills = [\"Plot imperfect radical\",\n",
    "                                          \"Plot pi\"],\n",
    "                                multigs = True, forgets = True,\n",
    "                                multilearn = True)"
   ]
  },
  {
   "cell_type": "code",
   "execution_count": null,
   "id": "f0a8ecb1",
   "metadata": {},
   "outputs": [],
   "source": [
    "# We can use a different column to specify the different learn and \n",
    "# forget classes. In this case, we use student ID.\n",
    "model.fit(data_path = 'ct.csv', skills = [\"Plot imperfect radical\",\n",
    "                                          \"Plot pi\"],\n",
    "                                multigs = True, forgets = True,\n",
    "                                multilearn = 'Anon Student Id')\n",
    "\n",
    "print(model.params())"
   ]
  },
  {
   "cell_type": "markdown",
   "id": "5af0f2a5",
   "metadata": {},
   "source": [
    "# Model Prediction and Evaluation"
   ]
  },
  {
   "cell_type": "code",
   "execution_count": null,
   "id": "ea16286a",
   "metadata": {},
   "outputs": [],
   "source": [
    "import pandas as pd\n",
    "import numpy as np\n",
    "from pyBKT.models import Model\n",
    "\n",
    "# Initialize the model with an optional seed\n",
    "model = Model(seed = 42, num_fits = 1)\n",
    "\n",
    "# Load the Cognitive Tutor data (not necessary, but shown\n",
    "# for the purposes of the tutorial that pyBKT accepts\n",
    "# DataFrames as well as file locations!).\n",
    "ct_df = pd.read_csv('ct.csv', encoding = 'latin')\n",
    "\n",
    "# Train a simple BKT model on all skills in the CT dataset\n",
    "model.fit(data_path = 'ct.csv')\n",
    "\n",
    "# Predict on all skills on the training data.\n",
    "# This returns a Pandas DataFrame.\n",
    "preds_df = model.predict(data_path = 'ct.csv')\n",
    "\n",
    "# Evaluate the RMSE of the model on the training data.\n",
    "# Note that the default evaluate metric is RMSE.\n",
    "training_rmse = model.evaluate(data = ct_df)\n",
    "\n",
    "# Evaluate the AUC of the model on the training data. The supported\n",
    "# metrics are AUC, RMSE and accuracy (they should be lowercased in\n",
    "# the argument!).\n",
    "training_auc = model.evaluate(data_path = 'ct.csv', metric = 'auc')\n",
    "\n",
    "# We can define a custom metric as well.\n",
    "def mae(true_vals, pred_vals):\n",
    "  \"\"\" Calculates the mean absolute error. \"\"\"\n",
    "  return np.mean(np.abs(true_vals - pred_vals))\n",
    "\n",
    "training_mae = model.evaluate(data_path = 'ct.csv', metric = mae)"
   ]
  },
  {
   "cell_type": "markdown",
   "id": "2bbc4206",
   "metadata": {},
   "source": [
    "# Crossvalidation"
   ]
  },
  {
   "cell_type": "code",
   "execution_count": null,
   "id": "5dec8d73",
   "metadata": {},
   "outputs": [],
   "source": [
    "from pyBKT.models import Model\n",
    "\n",
    "# Initialize the model with an optional seed\n",
    "model = Model(seed = 42, num_fits = 1)\n",
    "\n",
    "# Crossvalidate with 5 folds on all skills in the CT dataset.\n",
    "crossvalidated_errors = model.crossvalidate(data_path = 'ct.csv', folds = 5)\n",
    "\n",
    "# Crossvalidate on a particular set of skills with a given \n",
    "# seed, folds and metric.\n",
    "def mae(true_vals, pred_vals):\n",
    "  \"\"\" Calculates the mean absolute error. \"\"\"\n",
    "  return np.mean(np.abs(true_vals - pred_vals))\n",
    "\n",
    "# Note that the skills argument accepts a REGEX pattern. In this case, this matches and \n",
    "# crossvalidates on all skills containing the word fraction.\n",
    "crossvalidated_mae_errs = model.crossvalidate(data_path = 'ct.csv', skills = \".*fraction.*\",\n",
    "                                              folds = 10, metric = mae)\n",
    "\n",
    "# Crossvalidate using multiple model variants.\n",
    "crossvalidated_multigsf = model.crossvalidate(data_path = 'ct.csv', multigs = True, forgets = True)"
   ]
  },
  {
   "cell_type": "markdown",
   "id": "dcd6187b",
   "metadata": {},
   "source": [
    "# Roster"
   ]
  },
  {
   "cell_type": "code",
   "execution_count": null,
   "id": "53569eee",
   "metadata": {},
   "outputs": [],
   "source": [
    "from pyBKT.models import *\n",
    "import numpy as np\n",
    "\n",
    "# Create a backend pyBKT model and fit it on the CT data\n",
    "model = Model()\n",
    "model.fit(data_path = 'ct.csv')\n",
    "\n",
    "# Create a Roster with two students, Jeff and Bob, who are participating in the roster\n",
    "# for one skill (Calculate Unit Rate) using the pyBKT model above.\n",
    "roster = Roster(students = ['Jeff', 'Bob'], skills = 'Calculate unit rate', model = model)\n",
    "\n",
    "# Initial mastery state (prior) for Jeff, should be unmastered with low probability of mastery\n",
    "# get_state_type returns whether a student has mastered the skill or not\n",
    "# get_mastery_prob returns the probability a student has mastered the skill\n",
    "print(\"Jeff's mastery (t = 0):\", roster.get_state_type('Calculate unit rate', 'Jeff'))\n",
    "print(\"Jeff's probability of mastery (t = 0):\", roster.get_mastery_prob('Calculate unit rate', 'Jeff'))\n",
    "\n",
    "# We can update Jeff's state by adding one or more responses to a particular skill. In this case,\n",
    "# we observed a correct response for the one skill in the roster.\n",
    "jeff_new_state = roster.update_state('Calculate unit rate', 'Jeff', 1)\n",
    "\n",
    "# Check the updated mastery state and probability.\n",
    "print(\"Jeff's mastery (t = 1):\", roster.get_state_type('Calculate unit rate', 'Jeff'))\n",
    "print(\"Jeff's probability of mastery (t = 1):\", roster.get_mastery_prob('Calculate unit rate', 'Jeff'))\n",
    "\n",
    "# We can update his state with multiple correct responses (ten of them).\n",
    "roster.update_state('Calculate unit rate', 'Jeff', np.ones(10))\n",
    "\n",
    "# After 10 consecutive correct responses, he should have mastered the skill.\n",
    "print(\"Jeff's mastery (t = 11):\", roster.get_state_type('Calculate unit rate', 'Jeff'))\n",
    "print(\"Jeff's probability of mastery (t = 11):\", roster.get_mastery_prob('Calculate unit rate', 'Jeff'))\n",
    "\n",
    "# Programmatically check whether he has mastered the skill\n",
    "if roster.get_state_type('Calculate unit rate', 'Jeff') == StateType.MASTERED:\n",
    "    print(\"Jeff has mastered the skill!\")\n",
    "    \n",
    "# We can update Bob's state with two correct responses.\n",
    "roster.update_state('Calculate unit rate', 'Bob', np.ones(2))\n",
    "\n",
    "# He should remain unmastered.\n",
    "print(\"Bob's mastery (t = 2):\", roster.get_state_type('Calculate unit rate', 'Bob'))\n",
    "print(\"Bob's probability of mastery (t = 2):\", roster.get_mastery_prob('Calculate unit rate', 'Bob'))\n",
    "\n",
    "# We can print aggregate statistics for mastery and correctness.\n",
    "print(\"Both students' probabilites of correctness:\", roster.get_correct_probs('Calculate unit rate'))\n",
    "print(\"Both students' probabilites of mastery:\", roster.get_mastery_probs('Calculate unit rate'))\n",
    "\n",
    "# Add a new student, Sarah.\n",
    "roster.add_student('Calculate unit rate', 'Sarah')\n",
    "\n",
    "# Update Sarah's state with a sequence of correct and incorrect responses.\n",
    "sarah_new_state = roster.update_state('Calculate unit rate', 'Sarah', np.array([1, 0, 1, 0, 1, 1, 1]))\n",
    "\n",
    "# Print Sarah's correctness and mastery probability.\n",
    "print(\"Sarah's correctness probability:\", sarah_new_state.get_correct_prob())\n",
    "print(\"Sarah's mastery probability:\", sarah_new_state.get_mastery_prob())\n",
    "\n",
    "# Delete Bob from the roster.\n",
    "roster.remove_student('Calculate unit rate', 'Bob')\n",
    "\n",
    "# Reset student's state (i.e. latent and observable).\n",
    "roster.reset_state('Calculate unit rate', 'Jeff')\n",
    "\n",
    "# Jeff should be back to the initial prior as the mastery probability and should be unmastered.\n",
    "print(\"Jeff's mastery (t' = 0):\", roster.get_state_type('Calculate unit rate', 'Jeff'))\n",
    "print(\"Jeff's probability of mastery (t' = 0):\", roster.get_mastery_prob('Calculate unit rate', 'Jeff'))"
   ]
  },
  {
   "cell_type": "markdown",
   "id": "b7aeaa61",
   "metadata": {},
   "source": [
    "# Parameter Fixing"
   ]
  },
  {
   "cell_type": "code",
   "execution_count": null,
   "id": "33ea501e",
   "metadata": {},
   "outputs": [],
   "source": [
    "from pyBKT.models import *\n",
    "import numpy as np\n",
    "model = Model()\n",
    "\n",
    "# Fixes the prior rate and learn rate to 0.1 for the Plot imperfect radical skill, and trains the model given those fixed parameters.\n",
    "model.coef_ = {'Plot imperfect radical': {'prior': 0.1, 'learns': np.array([0.1])}}\n",
    "model.fit(data_path = 'ct.csv', skills='Plot imperfect radical', fixed=True)\n",
    "model.params()"
   ]
  },
  {
   "cell_type": "code",
   "execution_count": null,
   "id": "830a99a1",
   "metadata": {},
   "outputs": [],
   "source": [
    "# The Plot pi skill has 10 different guess/slip classes. This is how you would fix those slip classes to 0, 0.1, ..., 0.9 and train the model conditioned on those slip values.\n",
    "model.coef_ = {'Plot pi': {'slips': np.array([0, 0.1, 0.2, 0.3, 0.4, 0.5, 0.6, 0.7, 0.8, 0.9])}}\n",
    "model.fit(data_path = 'ct.csv', skills='Plot pi', multigs=True, fixed=True)\n",
    "model.params()"
   ]
  },
  {
   "cell_type": "markdown",
   "id": "f4a51253",
   "metadata": {},
   "source": [
    "# Internal Data Format"
   ]
  },
  {
   "cell_type": "markdown",
   "id": "5fe35044",
   "metadata": {},
   "source": [
    "To run the pyBKT model, define the following variables:\n",
    "num_subparts: The number of unique questions used to check understanding. Each subpart has a unique set of emission probabilities.\n",
    "num_resources: The number of unique learning resources available to students.\n",
    "num_fit_initialization: The number of iterations in the EM step."
   ]
  },
  {
   "cell_type": "markdown",
   "id": "1bb72ff7",
   "metadata": {},
   "source": [
    "Create an input object Data\n",
    "data: a matrix containing sequential checkpoints for all students, with their responses. Each row represents a different subpart, and each column a checkpoint for a student. There are three potential values: {0 = no response or no question asked, 1 = wrong response, 2 = correct response}. If at a checkpoint, a resource was given but no question asked, the associated column would have 0 values in all rows. "
   ]
  },
  {
   "cell_type": "markdown",
   "id": "f2a2a215",
   "metadata": {},
   "source": [
    "starts: defines each student's starting column on the data matrix. "
   ]
  },
  {
   "cell_type": "markdown",
   "id": "4ddc3120",
   "metadata": {},
   "source": [
    "lengths: defines the number of check point for each student. "
   ]
  },
  {
   "cell_type": "markdown",
   "id": "e9c20cfd",
   "metadata": {},
   "source": [
    "resources: defines the sequential id of the resources at each checkpoint. Each position in the vector corresponds to the column in the data matrix. "
   ]
  },
  {
   "cell_type": "markdown",
   "id": "025e16cf",
   "metadata": {},
   "source": [
    "stateseqs: this attribute is the true knowledge state for above data and should be left undefined before running the pyBKT model."
   ]
  },
  {
   "cell_type": "markdown",
   "id": "44c71dfb",
   "metadata": {},
   "source": [
    "As: the transition probability between the \"knowing\" and \"not knowing\" state. Includes both the learns and forgets probabilities, and their inverse. As creates a separate transition probability for each resource.\n",
    "learns: the probability of transitioning to the \"knowing\" state given \"not known\".\n",
    "forgets: the probability of transitioning to the \"not knowing\" state given \"known\".\n",
    "prior: the prior probability of \"knowing\".\n",
    "The fitmodel also includes the following emission probabilities:\n",
    "\n",
    "guesses: the probability of guessing correctly, given \"not knowing\" state.\n",
    "slips: the probability of picking incorrect answer, given \"knowing\" state."
   ]
  }
 ],
 "metadata": {
  "kernelspec": {
   "display_name": "Python 3",
   "language": "python",
   "name": "python3"
  },
  "language_info": {
   "codemirror_mode": {
    "name": "ipython",
    "version": 3
   },
   "file_extension": ".py",
   "mimetype": "text/x-python",
   "name": "python",
   "nbconvert_exporter": "python",
   "pygments_lexer": "ipython3",
   "version": "3.8.8"
  }
 },
 "nbformat": 4,
 "nbformat_minor": 5
}
