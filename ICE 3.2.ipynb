{
 "cells": [
  {
   "cell_type": "code",
   "execution_count": 1,
   "id": "ace1e3f6",
   "metadata": {},
   "outputs": [
    {
     "name": "stdout",
     "output_type": "stream",
     "text": [
      "Requirement already satisfied: pystan in c:\\users\\tangw\\anaconda3\\lib\\site-packages (2.19.1.1)\n",
      "Requirement already satisfied: Cython!=0.25.1,>=0.22 in c:\\users\\tangw\\anaconda3\\lib\\site-packages (from pystan) (0.29.23)\n",
      "Requirement already satisfied: numpy>=1.7 in c:\\users\\tangw\\anaconda3\\lib\\site-packages (from pystan) (1.20.1)\n",
      "Note: you may need to restart the kernel to use updated packages.\n"
     ]
    }
   ],
   "source": [
    "pip install pystan"
   ]
  },
  {
   "cell_type": "code",
   "execution_count": 2,
   "id": "cf7ef731",
   "metadata": {},
   "outputs": [],
   "source": [
    "import pandas as pd\n",
    "from pprint import pprint\n",
    "import pystan\n",
    "from scipy.special import expit\n",
    "from matplotlib import pyplot as plt\n",
    "from numpy.random import normal, randint, binomial, choice\n",
    "from numpy import percentile, concatenate, array, linspace, append\n",
    "%matplotlib inline"
   ]
  },
  {
   "cell_type": "code",
   "execution_count": 3,
   "id": "f484a707",
   "metadata": {},
   "outputs": [
    {
     "data": {
      "text/plain": [
       "Text(0.5, 1.0, 'The logistic function')"
      ]
     },
     "execution_count": 3,
     "metadata": {},
     "output_type": "execute_result"
    },
    {
     "data": {
      "image/png": "[encoded data removed]",
      "text/plain": [
       "<Figure size 432x288 with 1 Axes>"
      ]
     },
     "metadata": {
      "needs_background": "light"
     },
     "output_type": "display_data"
    }
   ],
   "source": [
    "x_axis = linspace(-10, 10, 100)\n",
    "plt.plot(x_axis, expit(x_axis))\n",
    "plt.xlabel('x')\n",
    "plt.xlim([-6, 6])\n",
    "plt.ylabel('logistic(x)')\n",
    "plt.title('The logistic function', fontsize=15)"
   ]
  },
  {
   "cell_type": "markdown",
   "id": "2c4ae2ce",
   "metadata": {},
   "source": [
    "# Binary IRT Model"
   ]
  },
  {
   "cell_type": "code",
   "execution_count": 4,
   "id": "027504eb",
   "metadata": {
    "scrolled": true
   },
   "outputs": [
    {
     "name": "stderr",
     "output_type": "stream",
     "text": [
      "INFO:pystan:COMPILING THE C++ CODE FOR MODEL anon_model_dbddecf477730252fdf914d6bda8cdbb NOW.\n",
      "WARNING:pystan:MSVC compiler is not supported\n"
     ]
    },
    {
     "ename": "DistutilsPlatformError",
     "evalue": "Unable to find vcvarsall.bat",
     "output_type": "error",
     "traceback": [
      "\u001b[1;31m---------------------------------------------------------------------------\u001b[0m",
      "\u001b[1;31mDistutilsPlatformError\u001b[0m                    Traceback (most recent call last)",
      "\u001b[1;32m<ipython-input-4-e0a761eb6f0c>\u001b[0m in \u001b[0;36m<module>\u001b[1;34m\u001b[0m\n\u001b[1;32m----> 1\u001b[1;33m \u001b[0mbinary_irt_model\u001b[0m \u001b[1;33m=\u001b[0m \u001b[0mpystan\u001b[0m\u001b[1;33m.\u001b[0m\u001b[0mStanModel\u001b[0m\u001b[1;33m(\u001b[0m\u001b[0mfile\u001b[0m\u001b[1;33m=\u001b[0m\u001b[1;34m\"C:\\\\Users\\\\tangw\\\\Desktop\\\\ICE\\\\binary_irt.stan\"\u001b[0m\u001b[1;33m)\u001b[0m\u001b[1;33m\u001b[0m\u001b[1;33m\u001b[0m\u001b[0m\n\u001b[0m",
      "\u001b[1;32m~\\anaconda3\\lib\\site-packages\\pystan\\model.py\u001b[0m in \u001b[0;36m__init__\u001b[1;34m(self, file, charset, model_name, model_code, stanc_ret, include_paths, boost_lib, eigen_lib, verbose, obfuscate_model_name, extra_compile_args, allow_undefined, include_dirs, includes)\u001b[0m\n\u001b[0;32m    376\u001b[0m \u001b[1;33m\u001b[0m\u001b[0m\n\u001b[0;32m    377\u001b[0m         \u001b[1;32mtry\u001b[0m\u001b[1;33m:\u001b[0m\u001b[1;33m\u001b[0m\u001b[1;33m\u001b[0m\u001b[0m\n\u001b[1;32m--> 378\u001b[1;33m             \u001b[0mbuild_extension\u001b[0m\u001b[1;33m.\u001b[0m\u001b[0mrun\u001b[0m\u001b[1;33m(\u001b[0m\u001b[1;33m)\u001b[0m\u001b[1;33m\u001b[0m\u001b[1;33m\u001b[0m\u001b[0m\n\u001b[0m\u001b[0;32m    379\u001b[0m         \u001b[1;32mfinally\u001b[0m\u001b[1;33m:\u001b[0m\u001b[1;33m\u001b[0m\u001b[1;33m\u001b[0m\u001b[0m\n\u001b[0;32m    380\u001b[0m             \u001b[1;32mif\u001b[0m \u001b[0mredirect_stderr\u001b[0m\u001b[1;33m:\u001b[0m\u001b[1;33m\u001b[0m\u001b[1;33m\u001b[0m\u001b[0m\n",
      "\u001b[1;32m~\\anaconda3\\lib\\distutils\\command\\build_ext.py\u001b[0m in \u001b[0;36mrun\u001b[1;34m(self)\u001b[0m\n\u001b[0;32m    338\u001b[0m \u001b[1;33m\u001b[0m\u001b[0m\n\u001b[0;32m    339\u001b[0m         \u001b[1;31m# Now actually compile and link everything.\u001b[0m\u001b[1;33m\u001b[0m\u001b[1;33m\u001b[0m\u001b[1;33m\u001b[0m\u001b[0m\n\u001b[1;32m--> 340\u001b[1;33m         \u001b[0mself\u001b[0m\u001b[1;33m.\u001b[0m\u001b[0mbuild_extensions\u001b[0m\u001b[1;33m(\u001b[0m\u001b[1;33m)\u001b[0m\u001b[1;33m\u001b[0m\u001b[1;33m\u001b[0m\u001b[0m\n\u001b[0m\u001b[0;32m    341\u001b[0m \u001b[1;33m\u001b[0m\u001b[0m\n\u001b[0;32m    342\u001b[0m     \u001b[1;32mdef\u001b[0m \u001b[0mcheck_extensions_list\u001b[0m\u001b[1;33m(\u001b[0m\u001b[0mself\u001b[0m\u001b[1;33m,\u001b[0m \u001b[0mextensions\u001b[0m\u001b[1;33m)\u001b[0m\u001b[1;33m:\u001b[0m\u001b[1;33m\u001b[0m\u001b[1;33m\u001b[0m\u001b[0m\n",
      "\u001b[1;32m~\\anaconda3\\lib\\distutils\\command\\build_ext.py\u001b[0m in \u001b[0;36mbuild_extensions\u001b[1;34m(self)\u001b[0m\n\u001b[0;32m    447\u001b[0m             \u001b[0mself\u001b[0m\u001b[1;33m.\u001b[0m\u001b[0m_build_extensions_parallel\u001b[0m\u001b[1;33m(\u001b[0m\u001b[1;33m)\u001b[0m\u001b[1;33m\u001b[0m\u001b[1;33m\u001b[0m\u001b[0m\n\u001b[0;32m    448\u001b[0m         \u001b[1;32melse\u001b[0m\u001b[1;33m:\u001b[0m\u001b[1;33m\u001b[0m\u001b[1;33m\u001b[0m\u001b[0m\n\u001b[1;32m--> 449\u001b[1;33m             \u001b[0mself\u001b[0m\u001b[1;33m.\u001b[0m\u001b[0m_build_extensions_serial\u001b[0m\u001b[1;33m(\u001b[0m\u001b[1;33m)\u001b[0m\u001b[1;33m\u001b[0m\u001b[1;33m\u001b[0m\u001b[0m\n\u001b[0m\u001b[0;32m    450\u001b[0m \u001b[1;33m\u001b[0m\u001b[0m\n\u001b[0;32m    451\u001b[0m     \u001b[1;32mdef\u001b[0m \u001b[0m_build_extensions_parallel\u001b[0m\u001b[1;33m(\u001b[0m\u001b[0mself\u001b[0m\u001b[1;33m)\u001b[0m\u001b[1;33m:\u001b[0m\u001b[1;33m\u001b[0m\u001b[1;33m\u001b[0m\u001b[0m\n",
      "\u001b[1;32m~\\anaconda3\\lib\\distutils\\command\\build_ext.py\u001b[0m in \u001b[0;36m_build_extensions_serial\u001b[1;34m(self)\u001b[0m\n\u001b[0;32m    472\u001b[0m         \u001b[1;32mfor\u001b[0m \u001b[0mext\u001b[0m \u001b[1;32min\u001b[0m \u001b[0mself\u001b[0m\u001b[1;33m.\u001b[0m\u001b[0mextensions\u001b[0m\u001b[1;33m:\u001b[0m\u001b[1;33m\u001b[0m\u001b[1;33m\u001b[0m\u001b[0m\n\u001b[0;32m    473\u001b[0m             \u001b[1;32mwith\u001b[0m \u001b[0mself\u001b[0m\u001b[1;33m.\u001b[0m\u001b[0m_filter_build_errors\u001b[0m\u001b[1;33m(\u001b[0m\u001b[0mext\u001b[0m\u001b[1;33m)\u001b[0m\u001b[1;33m:\u001b[0m\u001b[1;33m\u001b[0m\u001b[1;33m\u001b[0m\u001b[0m\n\u001b[1;32m--> 474\u001b[1;33m                 \u001b[0mself\u001b[0m\u001b[1;33m.\u001b[0m\u001b[0mbuild_extension\u001b[0m\u001b[1;33m(\u001b[0m\u001b[0mext\u001b[0m\u001b[1;33m)\u001b[0m\u001b[1;33m\u001b[0m\u001b[1;33m\u001b[0m\u001b[0m\n\u001b[0m\u001b[0;32m    475\u001b[0m \u001b[1;33m\u001b[0m\u001b[0m\n\u001b[0;32m    476\u001b[0m     \u001b[1;33m@\u001b[0m\u001b[0mcontextlib\u001b[0m\u001b[1;33m.\u001b[0m\u001b[0mcontextmanager\u001b[0m\u001b[1;33m\u001b[0m\u001b[1;33m\u001b[0m\u001b[0m\n",
      "\u001b[1;32m~\\anaconda3\\lib\\distutils\\command\\build_ext.py\u001b[0m in \u001b[0;36mbuild_extension\u001b[1;34m(self, ext)\u001b[0m\n\u001b[0;32m    526\u001b[0m             \u001b[0mmacros\u001b[0m\u001b[1;33m.\u001b[0m\u001b[0mappend\u001b[0m\u001b[1;33m(\u001b[0m\u001b[1;33m(\u001b[0m\u001b[0mundef\u001b[0m\u001b[1;33m,\u001b[0m\u001b[1;33m)\u001b[0m\u001b[1;33m)\u001b[0m\u001b[1;33m\u001b[0m\u001b[1;33m\u001b[0m\u001b[0m\n\u001b[0;32m    527\u001b[0m \u001b[1;33m\u001b[0m\u001b[0m\n\u001b[1;32m--> 528\u001b[1;33m         objects = self.compiler.compile(sources,\n\u001b[0m\u001b[0;32m    529\u001b[0m                                          \u001b[0moutput_dir\u001b[0m\u001b[1;33m=\u001b[0m\u001b[0mself\u001b[0m\u001b[1;33m.\u001b[0m\u001b[0mbuild_temp\u001b[0m\u001b[1;33m,\u001b[0m\u001b[1;33m\u001b[0m\u001b[1;33m\u001b[0m\u001b[0m\n\u001b[0;32m    530\u001b[0m                                          \u001b[0mmacros\u001b[0m\u001b[1;33m=\u001b[0m\u001b[0mmacros\u001b[0m\u001b[1;33m,\u001b[0m\u001b[1;33m\u001b[0m\u001b[1;33m\u001b[0m\u001b[0m\n",
      "\u001b[1;32m~\\anaconda3\\lib\\distutils\\_msvccompiler.py\u001b[0m in \u001b[0;36mcompile\u001b[1;34m(self, sources, output_dir, macros, include_dirs, debug, extra_preargs, extra_postargs, depends)\u001b[0m\n\u001b[0;32m    325\u001b[0m \u001b[1;33m\u001b[0m\u001b[0m\n\u001b[0;32m    326\u001b[0m         \u001b[1;32mif\u001b[0m \u001b[1;32mnot\u001b[0m \u001b[0mself\u001b[0m\u001b[1;33m.\u001b[0m\u001b[0minitialized\u001b[0m\u001b[1;33m:\u001b[0m\u001b[1;33m\u001b[0m\u001b[1;33m\u001b[0m\u001b[0m\n\u001b[1;32m--> 327\u001b[1;33m             \u001b[0mself\u001b[0m\u001b[1;33m.\u001b[0m\u001b[0minitialize\u001b[0m\u001b[1;33m(\u001b[0m\u001b[1;33m)\u001b[0m\u001b[1;33m\u001b[0m\u001b[1;33m\u001b[0m\u001b[0m\n\u001b[0m\u001b[0;32m    328\u001b[0m         compile_info = self._setup_compile(output_dir, macros, include_dirs,\n\u001b[0;32m    329\u001b[0m                                            sources, depends, extra_postargs)\n",
      "\u001b[1;32m~\\anaconda3\\lib\\distutils\\_msvccompiler.py\u001b[0m in \u001b[0;36minitialize\u001b[1;34m(self, plat_name)\u001b[0m\n\u001b[0;32m    222\u001b[0m         \u001b[0mplat_spec\u001b[0m \u001b[1;33m=\u001b[0m \u001b[0mPLAT_TO_VCVARS\u001b[0m\u001b[1;33m[\u001b[0m\u001b[0mplat_name\u001b[0m\u001b[1;33m]\u001b[0m\u001b[1;33m\u001b[0m\u001b[1;33m\u001b[0m\u001b[0m\n\u001b[0;32m    223\u001b[0m \u001b[1;33m\u001b[0m\u001b[0m\n\u001b[1;32m--> 224\u001b[1;33m         \u001b[0mvc_env\u001b[0m \u001b[1;33m=\u001b[0m \u001b[0m_get_vc_env\u001b[0m\u001b[1;33m(\u001b[0m\u001b[0mplat_spec\u001b[0m\u001b[1;33m)\u001b[0m\u001b[1;33m\u001b[0m\u001b[1;33m\u001b[0m\u001b[0m\n\u001b[0m\u001b[0;32m    225\u001b[0m         \u001b[1;32mif\u001b[0m \u001b[1;32mnot\u001b[0m \u001b[0mvc_env\u001b[0m\u001b[1;33m:\u001b[0m\u001b[1;33m\u001b[0m\u001b[1;33m\u001b[0m\u001b[0m\n\u001b[0;32m    226\u001b[0m             raise DistutilsPlatformError(\"Unable to find a compatible \"\n",
      "\u001b[1;32m~\\anaconda3\\lib\\distutils\\_msvccompiler.py\u001b[0m in \u001b[0;36m_get_vc_env\u001b[1;34m(plat_spec)\u001b[0m\n\u001b[0;32m    124\u001b[0m     \u001b[0mvcvarsall\u001b[0m\u001b[1;33m,\u001b[0m \u001b[0m_\u001b[0m \u001b[1;33m=\u001b[0m \u001b[0m_find_vcvarsall\u001b[0m\u001b[1;33m(\u001b[0m\u001b[0mplat_spec\u001b[0m\u001b[1;33m)\u001b[0m\u001b[1;33m\u001b[0m\u001b[1;33m\u001b[0m\u001b[0m\n\u001b[0;32m    125\u001b[0m     \u001b[1;32mif\u001b[0m \u001b[1;32mnot\u001b[0m \u001b[0mvcvarsall\u001b[0m\u001b[1;33m:\u001b[0m\u001b[1;33m\u001b[0m\u001b[1;33m\u001b[0m\u001b[0m\n\u001b[1;32m--> 126\u001b[1;33m         \u001b[1;32mraise\u001b[0m \u001b[0mDistutilsPlatformError\u001b[0m\u001b[1;33m(\u001b[0m\u001b[1;34m\"Unable to find vcvarsall.bat\"\u001b[0m\u001b[1;33m)\u001b[0m\u001b[1;33m\u001b[0m\u001b[1;33m\u001b[0m\u001b[0m\n\u001b[0m\u001b[0;32m    127\u001b[0m \u001b[1;33m\u001b[0m\u001b[0m\n\u001b[0;32m    128\u001b[0m     \u001b[1;32mtry\u001b[0m\u001b[1;33m:\u001b[0m\u001b[1;33m\u001b[0m\u001b[1;33m\u001b[0m\u001b[0m\n",
      "\u001b[1;31mDistutilsPlatformError\u001b[0m: Unable to find vcvarsall.bat"
     ]
    }
   ],
   "source": [
    "binary_irt_model = pystan.StanModel(file=\"C:\\\\Users\\\\tangw\\\\Desktop\\\\ICE\\\\binary_irt.stan\")"
   ]
  },
  {
   "cell_type": "code",
   "execution_count": null,
   "id": "37048c48",
   "metadata": {},
   "outputs": [],
   "source": [
    "def generate_binary_irt_data(sim_input):\n",
    "    # simulate abilities, difficulties, and subject/item combinations\n",
    "    sim_ability = normal(loc=0,\n",
    "                         scale=sim_input['sigma_ability'],\n",
    "                         size=sim_input['S'])\n",
    "    sim_difficulty = normal(loc=sim_input['mu_difficulty'],\n",
    "                            scale=sim_input['sigma_difficulty'],\n",
    "                            size=sim_input['I'])\n",
    "    sim_subject = randint(low=0,\n",
    "                          high=sim_input['S'],\n",
    "                          size=sim_input['R'])\n",
    "    sim_item = randint(low=0,\n",
    "                       high=sim_input['I'],\n",
    "                       size=sim_input['R'])\n",
    "    # work out success probabilities\n",
    "    sim_success_probabilities = expit(sim_ability[sim_subject] -\n",
    "                                      sim_difficulty[sim_item])\n",
    "    # simulate grades\n",
    "    sim_grade = binomial(n=1,\n",
    "                         p=sim_success_probabilities,\n",
    "                         size=sim_input['R'])\n",
    "    # Dictionary of data to give to STAN\n",
    "    sim_data = {\n",
    "        'grade': sim_grade,\n",
    "        'subject': sim_subject + 1,\n",
    "        'item': sim_item + 1,\n",
    "    }\n",
    "    sim_data.update({i: binary_sim_input[i] for i in ['R', 'I', 'S']})\n",
    "    recoverables = {\n",
    "        'ability': sim_ability,\n",
    "        'difficulty': sim_difficulty,\n",
    "    }\n",
    "    recoverables.update({i: binary_sim_input[i] for i in ['sigma_ability',\n",
    "                                                          'mu_difficulty',\n",
    "                                                          'sigma_difficulty']})\n",
    "    return sim_data, recoverables\n",
    "\n",
    "# define some input data\n",
    "binary_sim_input = {'R': 10000,\n",
    "                    'I': 15,\n",
    "                    'S': 15,\n",
    "                    'sigma_ability': 1,\n",
    "                    'sigma_difficulty': 2,\n",
    "                    'mu_difficulty': -1}\n",
    "binary_sim_data, binary_sim_recoverables = generate_binary_irt_data(binary_sim_input)\n",
    "# print results\n",
    "print('Here is our randomly generated data:')\n",
    "pprint(binary_sim_data)  # pprint makes the dictionary print nicely"
   ]
  },
  {
   "cell_type": "code",
   "execution_count": null,
   "id": "5146202e",
   "metadata": {},
   "outputs": [],
   "source": [
    "#Stimulate data next\n",
    "# fit model\n",
    "binary_fit = binary_irt_model.sampling(data=binary_sim_data, iter=2000, chains=4)\n",
    "# extract parameters\n",
    "binary_params = binary_fit.extract()\n",
    "# print fit summary\n",
    "print(binary_fit)\n",
    "# draw summary plot\n",
    "f = binary_fit.plot()\n",
    "f.set_size_inches(18, 10)\n",
    "plt.tight_layout()"
   ]
  },
  {
   "cell_type": "code",
   "execution_count": null,
   "id": "c8ff5239",
   "metadata": {},
   "outputs": [],
   "source": [
    "# define some names for convenience\n",
    "binary_sim_ability = binary_sim_recoverables['ability']\n",
    "binary_sim_difficulty = binary_sim_recoverables['difficulty']\n",
    "# Work out upper and lower quantiles\n",
    "binary_ability_quantiles = percentile(binary_params['ability'], [5, 95], axis=0)\n",
    "binary_difficulty_quantiles = percentile(binary_params['difficulty'], [5, 95], axis=0)\n",
    "# draw Graphs\n",
    "f, ax = plt.subplots(2, 3, figsize=[12, 8])\n",
    "ax = ax.ravel()\n",
    "f.suptitle('How well were the simultated parameters recovered?', y=1.03, fontsize=16)\n",
    "# ability\n",
    "ax[0].set_xlabel('simulator ability parameter')\n",
    "ax[0].set_ylabel('posterior 90% interval and mean')\n",
    "ax[0].errorbar(binary_sim_ability, \n",
    "               binary_params['ability'].mean(axis=0),\n",
    "               yerr=abs(binary_params['ability'].mean(axis=0) - binary_ability_quantiles),\n",
    "               fmt='o')\n",
    "ax[0].plot(binary_sim_ability, binary_sim_ability, color='r')\n",
    "ax[0].legend(['y=x'], prop={'size': 10})\n",
    "# difficulty\n",
    "ax[1].set_xlabel('simulator difficulty parameter')\n",
    "ax[1].errorbar(binary_sim_difficulty,\n",
    "               binary_params['difficulty'].mean(axis=0) + binary_params['mu_difficulty'].mean(),\n",
    "               yerr=abs(binary_params['difficulty'].mean(axis=0) - binary_difficulty_quantiles),\n",
    "               fmt='o')\n",
    "ax[1].plot(binary_sim_difficulty, binary_sim_difficulty, color='r')\n",
    "ax[1].legend(['y=x'], prop={'size': 10})\n",
    "# mu_difficulty\n",
    "ax[5].hist(binary_params['mu_difficulty'], alpha=0.8, bins=30)\n",
    "ax[5].axvline(binary_sim_recoverables['mu_difficulty'], color='r')\n",
    "ax[5].legend(['simulator mu_difficulty'], prop={'size': 10})\n",
    "ax[5].set_xlabel('mu_difficulty value')\n",
    "ax[5].set_ylabel('sampling frequency')\n",
    "# sigma_difficulty\n",
    "ax[4].hist(binary_params['sigma_difficulty'], alpha=0.8, bins=30)\n",
    "ax[4].axvline(binary_sim_recoverables['sigma_difficulty'], color='r')\n",
    "ax[4].legend(['simulator sigma_difficulty'], prop={'size': 10})\n",
    "ax[4].set_xlabel('sigma_difficulty value')\n",
    "# sigma_ability\n",
    "ax[3].hist(binary_params['sigma_ability'], alpha=0.8, bins=30)\n",
    "ax[3].axvline(binary_sim_recoverables['sigma_ability'], color='r')\n",
    "ax[3].legend(['simulator sigma_ability'], prop={'size': 10})\n",
    "ax[3].set_xlabel('sigma_ability value')\n",
    "\n",
    "plt.tight_layout()"
   ]
  },
  {
   "cell_type": "markdown",
   "id": "159841a8",
   "metadata": {},
   "source": [
    "# Graded IRT model"
   ]
  },
  {
   "cell_type": "code",
   "execution_count": null,
   "id": "0b8bdae2",
   "metadata": {},
   "outputs": [],
   "source": [
    "# compile the model\n",
    "graded_irt_model = pystan.StanModel(file=\"graded_irt.stan\")"
   ]
  },
  {
   "cell_type": "code",
   "execution_count": null,
   "id": "80ba3a97",
   "metadata": {},
   "outputs": [],
   "source": [
    "# pmf for the ordered logistic distribution\n",
    "def get_ordered_logistic_probs(ability, item_difficulties):\n",
    "    # NB the '+' operators here represent list concatenation not addition\n",
    "    return array([1 - expit(ability - item_difficulties[0])] +\n",
    "                  [expit(ability - item_difficulties[grade - 1]) - \n",
    "                   expit(ability - item_difficulties[grade])\n",
    "                   for grade in range(1, len(item_difficulties))] +\n",
    "                  [expit(ability - item_difficulties[len(item_difficulties) - 1])])\n",
    "\n",
    "# function for generating graded irt data\n",
    "def generate_graded_irt_data(sim_input):\n",
    "    # abilities\n",
    "    sim_ability = normal(loc=0,\n",
    "                         scale=1,\n",
    "                         size=sim_input['S'])\n",
    "    # difficulty of the easiest grade for each item\n",
    "    sim_first_difficulty = normal(loc=sim_input['mu_first_difficulty'],\n",
    "                                  scale=sim_input['sigma_first_difficulty'],\n",
    "                                  size=(sim_input['I'], 1))\n",
    "    # size of steps from one grade to the next for each item\n",
    "    sim_difficulty_steps = abs(normal(loc=0,\n",
    "                                      scale=sim_input['sigma_step'],\n",
    "                                      size=(sim_input['I'], sim_input['G']-2)))\n",
    "    # cumulatively add first difficulties to steps to get overall difficulties\n",
    "    sim_difficulty = append(sim_first_difficulty,\n",
    "                            sim_difficulty_steps, \n",
    "                            axis=1).cumsum(axis=1)\n",
    "    # assign subjects and items\n",
    "    sim_subject = randint(low=0,\n",
    "                          high=sim_input['S'],\n",
    "                          size=sim_input['R'])\n",
    "    sim_item = randint(low=0,\n",
    "                       high=sim_input['I'],\n",
    "                       size=sim_input['R'])\n",
    "    # calculate outcome probabilities for each response\n",
    "    sim_probs = [get_ordered_logistic_probs(*i) \n",
    "                 for i in zip(sim_ability[sim_subject], sim_difficulty[sim_item])]\n",
    "    # generate random grades\n",
    "    sim_grade = concatenate([choice(a=range(1, sim_input['G'] + 1),\n",
    "                                    size=1,\n",
    "                                    p=sim_probs[i]) \n",
    "                             for i in range(sim_input['R'])])\n",
    "    # dictionary of data that we will give to Stan\n",
    "    sim_data = {\n",
    "        'subject': sim_subject + 1,\n",
    "        'item': sim_item + 1,\n",
    "        'grade': sim_grade\n",
    "    }\n",
    "    sim_data.update({i: sim_input[i] for i in ['R', 'I', 'S', 'G']})\n",
    "    # dictionary of numbers we want to recover\n",
    "    recoverables = {\n",
    "        'ability': sim_ability,\n",
    "        'difficulty': sim_difficulty,\n",
    "    }\n",
    "    recoverables.update({i: sim_input[i] for i in ['sigma_ability',\n",
    "                                                   'sigma_first_difficulty',\n",
    "                                                   'sigma_step',\n",
    "                                                   'mu_first_difficulty']})\n",
    "    return sim_data, recoverables\n",
    "\n",
    "# Some input data\n",
    "graded_sim_input = {'R': 10000,\n",
    "                    'I': 5,\n",
    "                    'S': 15,\n",
    "                    'G': 4,\n",
    "                    'sigma_ability': 1,\n",
    "                    'sigma_first_difficulty': 2,\n",
    "                    'sigma_step': 1.5,\n",
    "                    'mu_first_difficulty': -1}\n",
    "graded_sim_data, graded_sim_recoverables = generate_graded_irt_data(graded_sim_input)"
   ]
  },
  {
   "cell_type": "code",
   "execution_count": null,
   "id": "f6a31057",
   "metadata": {},
   "outputs": [],
   "source": [
    "# fit model\n",
    "graded_fit = graded_irt_model.sampling(data=graded_sim_data, iter=3000, chains=4)\n",
    "# extract parameters\n",
    "graded_params = graded_fit.extract()\n",
    "# print fit summary\n",
    "print(graded_fit)"
   ]
  },
  {
   "cell_type": "code",
   "execution_count": null,
   "id": "4c8a7094",
   "metadata": {},
   "outputs": [],
   "source": [
    "# work out quantiles\n",
    "graded_ability_quantiles = percentile(graded_params['ability'], [5, 95], axis=0)\n",
    "graded_difficulty_quantiles = [\n",
    "    concatenate(i) for i in percentile(graded_params['difficulty'], [5, 95], axis=0)\n",
    "]\n",
    "# some convenience names\n",
    "graded_ability_means = graded_params['ability'].mean(axis=0)\n",
    "graded_difficulty_means = concatenate(graded_params['difficulty'].mean(axis=0))\n",
    "graded_sim_ability = graded_sim_recoverables['ability']\n",
    "graded_sim_difficulty = concatenate(graded_sim_recoverables['difficulty'])\n",
    "# start drawing graphs                 \n",
    "f, ax = plt.subplots(2, 3, figsize=(12, 8))\n",
    "ax = ax.ravel()\n",
    "f.suptitle('How well does the graded model recover simultated parameters?', y=1.03, fontsize=16)\n",
    "# ability\n",
    "ax[0].set_xlabel('real ability parameter')\n",
    "ax[0].set_ylabel('posterior 90% interval and mean')\n",
    "ax[0].errorbar(graded_sim_ability,\n",
    "               graded_ability_means,\n",
    "               yerr=abs(graded_ability_means - graded_ability_quantiles),\n",
    "               fmt='o')\n",
    "ax[0].plot(graded_sim_ability, graded_sim_ability, color='r')\n",
    "ax[0].legend(['y=x'], prop={'size': 10})\n",
    "# difficulty\n",
    "ax[1].set_xlabel('simulator difficulty parameter')\n",
    "ax[1].errorbar(graded_sim_difficulty, \n",
    "               graded_difficulty_means,\n",
    "               yerr=abs(graded_difficulty_means - graded_difficulty_quantiles), \n",
    "               fmt='o')\n",
    "ax[1].plot(graded_sim_difficulty, graded_sim_difficulty, color='r')\n",
    "ax[1].legend(['y=x'], prop={'size': 10})\n",
    "# sigma_step\n",
    "ax[2].hist(graded_params['sigma_step'], alpha=0.8, bins=30)\n",
    "ax[2].axvline(graded_sim_recoverables['sigma_step'], color='r')\n",
    "ax[2].legend(['simulator sigma_step'], prop={'size': 10})\n",
    "ax[2].set_xlabel('sigma_step value')\n",
    "# sigma_ability\n",
    "ax[3].hist(graded_params['sigma_ability'], alpha=0.8, bins=30)\n",
    "ax[3].axvline(graded_sim_recoverables['sigma_ability'], color='r')\n",
    "ax[3].legend(['simulator sigma_ability'], prop={'size': 10})\n",
    "ax[3].set_xlabel('sigma_ability value')\n",
    "# sigma_first_difficulty\n",
    "ax[4].hist(graded_params['sigma_first_difficulty'], alpha=0.8, bins=30)\n",
    "ax[4].axvline(graded_sim_recoverables['sigma_first_difficulty'], color='r')\n",
    "ax[4].legend(['simulator sigma_first_difficulty'], prop={'size': 10})\n",
    "ax[4].set_xlabel('sigma_first_difficulty value')\n",
    "# mu_first_difficulty\n",
    "ax[5].hist(graded_params['mu_first_difficulty'], alpha=0.8, bins=30)\n",
    "ax[5].axvline(graded_sim_recoverables['mu_first_difficulty'], color='r')\n",
    "ax[5].legend(['simulator mu_first_difficulty'], prop={'size': 10})\n",
    "ax[5].set_xlabel('mu_first_difficulty value')\n",
    "ax[5].set_ylabel('sampling frequency')"
   ]
  },
  {
   "cell_type": "markdown",
   "id": "3ff0a965",
   "metadata": {},
   "source": [
    "# Cross-validation"
   ]
  },
  {
   "cell_type": "code",
   "execution_count": null,
   "id": "c4e2ad3c",
   "metadata": {},
   "outputs": [],
   "source": [
    "# Compile the cross-validation model\n",
    "graded_irt_model_xval = pystan.StanModel(file=\"graded_irt_xval.stan\")\n",
    "# Number of chunks to partition the data into:\n",
    "n_folds = 5\n",
    "whole_dataset = pd.DataFrame({i: graded_sim_data[i] \n",
    "                              for i in ['item', 'subject', 'grade']})\n",
    "test_dataset = whole_dataset.copy()\n",
    "predictions = pd.DataFrame([])\n",
    "for fold in range(n_folds):\n",
    "    test_data = test_dataset.sample(n=int(len(whole_dataset) / n_folds))\n",
    "    training_data = whole_dataset.drop(test_data.index)\n",
    "    this_fold_data = {'I': len(whole_dataset['item'].unique()),\n",
    "                      'S': len(whole_dataset['subject'].unique()),\n",
    "                      'G': len(whole_dataset['grade'].unique()),\n",
    "                      'R': len(training_data),\n",
    "                      'item': training_data['item'],\n",
    "                      'subject': training_data['subject'],\n",
    "                      'grade': training_data['grade'],\n",
    "                      'R_holdout': len(test_data),\n",
    "                      'item_holdout': test_data['item'],\n",
    "                      'subject_holdout': test_data['subject']}\n",
    "    this_fold_fit = graded_irt_model_xval.sampling(data=this_fold_data, iter=200, chains=4)\n",
    "    this_fold_params = this_fold_fit.extract()\n",
    "    this_fold_predictions = pd.DataFrame(this_fold_params['predicted_grade'].T,\n",
    "                                         index=test_data.index)\n",
    "    predictions = pd.concat([predictions, this_fold_predictions])\n",
    "    test_dataset = test_dataset.drop(test_data.index)\n",
    "predictions.sort_index(inplace=True)\n",
    "predictions.columns = ['prediction_' + str(i) for i in predictions.columns]\n",
    "output = whole_dataset.join(predictions)\n",
    "output.head()"
   ]
  },
  {
   "cell_type": "code",
   "execution_count": null,
   "id": "c9f90fbc",
   "metadata": {},
   "outputs": [],
   "source": [
    "mae = (pd.DataFrame([abs(output[i] - output['grade']) \n",
    "                     for i in output[predictions.columns]])\n",
    "       .mean(axis=1)\n",
    "       .mean())\n",
    "mse = (pd.DataFrame([(output[i] - output['grade']) ** 2\n",
    "                     for i in output[predictions.columns]])\n",
    "       .mean(axis=1)\n",
    "       .mean())\n",
    "print('Mean absolute error: ' + str(mae) + '\\nMean square error: ' + str(mse))"
   ]
  },
  {
   "cell_type": "code",
   "execution_count": null,
   "id": "3fb3ad5b",
   "metadata": {
    "scrolled": true
   },
   "outputs": [],
   "source": []
  }
 ],
 "metadata": {
  "kernelspec": {
   "display_name": "Python 3",
   "language": "python",
   "name": "python3"
  },
  "language_info": {
   "codemirror_mode": {
    "name": "ipython",
    "version": 3
   },
   "file_extension": ".py",
   "mimetype": "text/x-python",
   "name": "python",
   "nbconvert_exporter": "python",
   "pygments_lexer": "ipython3",
   "version": "3.8.8"
  }
 },
 "nbformat": 4,
 "nbformat_minor": 5
}
